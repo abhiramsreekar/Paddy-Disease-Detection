{
 "cells": [
  {
   "cell_type": "code",
   "execution_count": 1,
   "id": "794cac22",
   "metadata": {},
   "outputs": [
    {
     "name": "stdout",
     "output_type": "stream",
     "text": [
      "Defaulting to user installation because normal site-packages is not writeable\n",
      "Requirement already satisfied: streamlit in c:\\users\\abhir\\appdata\\roaming\\python\\python310\\site-packages (1.22.0)\n",
      "Requirement already satisfied: altair<5,>=3.2.0 in c:\\users\\abhir\\appdata\\roaming\\python\\python310\\site-packages (from streamlit) (4.2.2)\n",
      "Requirement already satisfied: blinker>=1.0.0 in c:\\users\\abhir\\appdata\\roaming\\python\\python310\\site-packages (from streamlit) (1.6.2)\n",
      "Requirement already satisfied: cachetools>=4.0 in c:\\users\\abhir\\appdata\\roaming\\python\\python310\\site-packages (from streamlit) (5.3.0)\n",
      "Requirement already satisfied: click>=7.0 in c:\\users\\abhir\\appdata\\roaming\\python\\python310\\site-packages (from streamlit) (7.1.2)\n",
      "Requirement already satisfied: importlib-metadata>=1.4 in c:\\users\\abhir\\appdata\\roaming\\python\\python310\\site-packages (from streamlit) (4.10.0)\n",
      "Requirement already satisfied: numpy in c:\\users\\abhir\\appdata\\roaming\\python\\python310\\site-packages (from streamlit) (1.22.1)\n",
      "Requirement already satisfied: packaging>=14.1 in c:\\users\\abhir\\appdata\\roaming\\python\\python310\\site-packages (from streamlit) (21.3)\n",
      "Requirement already satisfied: pandas<3,>=0.25 in c:\\users\\abhir\\appdata\\roaming\\python\\python310\\site-packages (from streamlit) (1.4.2)\n",
      "Requirement already satisfied: pillow>=6.2.0 in c:\\users\\abhir\\appdata\\roaming\\python\\python310\\site-packages (from streamlit) (8.4.0)\n",
      "Requirement already satisfied: protobuf<4,>=3.12 in c:\\users\\abhir\\appdata\\roaming\\python\\python310\\site-packages (from streamlit) (3.20.3)\n",
      "Requirement already satisfied: pyarrow>=4.0 in c:\\users\\abhir\\appdata\\roaming\\python\\python310\\site-packages (from streamlit) (12.0.0)\n",
      "Requirement already satisfied: pympler>=0.9 in c:\\users\\abhir\\appdata\\roaming\\python\\python310\\site-packages (from streamlit) (1.0.1)\n",
      "Requirement already satisfied: python-dateutil in c:\\users\\abhir\\appdata\\roaming\\python\\python310\\site-packages (from streamlit) (2.8.2)\n",
      "Requirement already satisfied: requests>=2.4 in c:\\users\\abhir\\appdata\\roaming\\python\\python310\\site-packages (from streamlit) (2.28.0)\n",
      "Requirement already satisfied: rich>=10.11.0 in c:\\users\\abhir\\appdata\\roaming\\python\\python310\\site-packages (from streamlit) (13.3.5)\n",
      "Requirement already satisfied: tenacity<9,>=8.0.0 in c:\\users\\abhir\\appdata\\roaming\\python\\python310\\site-packages (from streamlit) (8.0.1)\n",
      "Requirement already satisfied: toml in c:\\users\\abhir\\appdata\\roaming\\python\\python310\\site-packages (from streamlit) (0.10.2)\n",
      "Requirement already satisfied: typing-extensions>=3.10.0.0 in c:\\users\\abhir\\appdata\\roaming\\python\\python310\\site-packages (from streamlit) (4.5.0)\n",
      "Requirement already satisfied: tzlocal>=1.1 in c:\\users\\abhir\\appdata\\roaming\\python\\python310\\site-packages (from streamlit) (4.3)\n",
      "Requirement already satisfied: validators>=0.2 in c:\\users\\abhir\\appdata\\roaming\\python\\python310\\site-packages (from streamlit) (0.20.0)\n",
      "Requirement already satisfied: gitpython!=3.1.19 in c:\\users\\abhir\\appdata\\roaming\\python\\python310\\site-packages (from streamlit) (3.1.31)\n",
      "Requirement already satisfied: pydeck>=0.1.dev5 in c:\\users\\abhir\\appdata\\roaming\\python\\python310\\site-packages (from streamlit) (0.8.1b0)\n",
      "Requirement already satisfied: tornado>=6.0.3 in c:\\users\\abhir\\appdata\\roaming\\python\\python310\\site-packages (from streamlit) (6.3.1)\n",
      "Requirement already satisfied: watchdog in c:\\users\\abhir\\appdata\\roaming\\python\\python310\\site-packages (from streamlit) (3.0.0)\n",
      "Requirement already satisfied: entrypoints in c:\\users\\abhir\\appdata\\roaming\\python\\python310\\site-packages (from altair<5,>=3.2.0->streamlit) (0.4)\n",
      "Requirement already satisfied: jinja2 in c:\\users\\abhir\\appdata\\roaming\\python\\python310\\site-packages (from altair<5,>=3.2.0->streamlit) (3.1.2)\n",
      "Requirement already satisfied: jsonschema>=3.0 in c:\\users\\abhir\\appdata\\roaming\\python\\python310\\site-packages (from altair<5,>=3.2.0->streamlit) (4.17.3)\n",
      "Requirement already satisfied: toolz in c:\\users\\abhir\\appdata\\roaming\\python\\python310\\site-packages (from altair<5,>=3.2.0->streamlit) (0.12.0)\n",
      "Requirement already satisfied: gitdb<5,>=4.0.1 in c:\\users\\abhir\\appdata\\roaming\\python\\python310\\site-packages (from gitpython!=3.1.19->streamlit) (4.0.10)\n",
      "Requirement already satisfied: zipp>=0.5 in c:\\users\\abhir\\appdata\\roaming\\python\\python310\\site-packages (from importlib-metadata>=1.4->streamlit) (3.7.0)\n",
      "Requirement already satisfied: pyparsing!=3.0.5,>=2.0.2 in c:\\users\\abhir\\appdata\\roaming\\python\\python310\\site-packages (from packaging>=14.1->streamlit) (3.0.7)\n",
      "Requirement already satisfied: pytz>=2020.1 in c:\\users\\abhir\\appdata\\roaming\\python\\python310\\site-packages (from pandas<3,>=0.25->streamlit) (2022.1)\n",
      "Requirement already satisfied: six>=1.5 in c:\\users\\abhir\\appdata\\roaming\\python\\python310\\site-packages (from python-dateutil->streamlit) (1.16.0)\n",
      "Requirement already satisfied: charset-normalizer~=2.0.0 in c:\\users\\abhir\\appdata\\roaming\\python\\python310\\site-packages (from requests>=2.4->streamlit) (2.0.12)\n",
      "Requirement already satisfied: idna<4,>=2.5 in c:\\users\\abhir\\appdata\\roaming\\python\\python310\\site-packages (from requests>=2.4->streamlit) (3.3)\n",
      "Requirement already satisfied: urllib3<1.27,>=1.21.1 in c:\\users\\abhir\\appdata\\roaming\\python\\python310\\site-packages (from requests>=2.4->streamlit) (1.26.9)\n",
      "Requirement already satisfied: certifi>=2017.4.17 in c:\\users\\abhir\\appdata\\roaming\\python\\python310\\site-packages (from requests>=2.4->streamlit) (2022.6.15)\n",
      "Requirement already satisfied: markdown-it-py<3.0.0,>=2.2.0 in c:\\users\\abhir\\appdata\\roaming\\python\\python310\\site-packages (from rich>=10.11.0->streamlit) (2.2.0)\n",
      "Requirement already satisfied: pygments<3.0.0,>=2.13.0 in c:\\users\\abhir\\appdata\\roaming\\python\\python310\\site-packages (from rich>=10.11.0->streamlit) (2.15.1)\n",
      "Requirement already satisfied: pytz-deprecation-shim in c:\\users\\abhir\\appdata\\roaming\\python\\python310\\site-packages (from tzlocal>=1.1->streamlit) (0.1.0.post0)\n",
      "Requirement already satisfied: tzdata in c:\\users\\abhir\\appdata\\roaming\\python\\python310\\site-packages (from tzlocal>=1.1->streamlit) (2021.5)\n",
      "Requirement already satisfied: decorator>=3.4.0 in c:\\users\\abhir\\appdata\\roaming\\python\\python310\\site-packages (from validators>=0.2->streamlit) (5.1.1)\n",
      "Requirement already satisfied: smmap<6,>=3.0.1 in c:\\users\\abhir\\appdata\\roaming\\python\\python310\\site-packages (from gitdb<5,>=4.0.1->gitpython!=3.1.19->streamlit) (5.0.0)\n",
      "Requirement already satisfied: MarkupSafe>=2.0 in c:\\users\\abhir\\appdata\\roaming\\python\\python310\\site-packages (from jinja2->altair<5,>=3.2.0->streamlit) (2.1.2)\n",
      "Requirement already satisfied: attrs>=17.4.0 in c:\\users\\abhir\\appdata\\roaming\\python\\python310\\site-packages (from jsonschema>=3.0->altair<5,>=3.2.0->streamlit) (22.2.0)\n",
      "Requirement already satisfied: pyrsistent!=0.17.0,!=0.17.1,!=0.17.2,>=0.14.0 in c:\\users\\abhir\\appdata\\roaming\\python\\python310\\site-packages (from jsonschema>=3.0->altair<5,>=3.2.0->streamlit) (0.19.3)\n",
      "Requirement already satisfied: mdurl~=0.1 in c:\\users\\abhir\\appdata\\roaming\\python\\python310\\site-packages (from markdown-it-py<3.0.0,>=2.2.0->rich>=10.11.0->streamlit) (0.1.2)\n"
     ]
    }
   ],
   "source": [
    "!pip install streamlit"
   ]
  },
  {
   "cell_type": "code",
   "execution_count": 18,
   "id": "4cf30be6",
   "metadata": {},
   "outputs": [
    {
     "name": "stdout",
     "output_type": "stream",
     "text": [
      "Overwriting app.py\n"
     ]
    }
   ],
   "source": [
    "%%writefile app.py\n",
    "import streamlit as st\n",
    "import tensorflow as tf\n",
    "\n",
    "st.set_option('deprecation.showfileUploaderEncoding',False)\n",
    "# @st.cache_data(allow_output_mutation=True)\n",
    "def load_model():\n",
    "    model=tf.keras.models.load_model('./my_model.h5')\n",
    "    return model\n",
    "model=load_model()\n",
    "st.write(\"\"\"\n",
    "        Rice Crop Disease Detection\n",
    "        \"\"\")\n",
    "\n",
    "file=st.file_uploader(\"Please upload the leaf's image\",type=[\"jpg\",\"png\"])\n",
    "import cv2\n",
    "from PIL import Image,ImageOps\n",
    "import numpy as np\n",
    "def import_and_predict(image_data,model):\n",
    "    size=(64,64)\n",
    "    image=ImageOps.fit(image_data,size,Image.ANTIALIAS)\n",
    "    img=np.asarray(image)\n",
    "    img_reshape=img[np.newaxis,...]\n",
    "    prediction=model.predict(img_reshape)\n",
    "    return prediction\n",
    "\n",
    "if file is None:\n",
    "    st.text(\"Please upload an image file\")\n",
    "else:\n",
    "    image=Image.open(file)\n",
    "    image = image.convert('RGB')\n",
    "    st.image(image,use_column_width=True)\n",
    "    predictions=import_and_predict(image,model)\n",
    "    class_names=['Bacterialblight', 'Blast', 'Brownspot',\"Healthy\",\"Tungro\"]\n",
    "    st.text(\"This image most likely is \"+class_names[np.argmax(predictions[0])])\n",
    "    print(predictions)\n",
    "    print(class_names[np.argmax(predictions[0])])"
   ]
  },
  {
   "cell_type": "code",
   "execution_count": null,
   "id": "4f52dc45",
   "metadata": {},
   "outputs": [],
   "source": []
  }
 ],
 "metadata": {
  "kernelspec": {
   "display_name": "Python 3 (ipykernel)",
   "language": "python",
   "name": "python3"
  },
  "language_info": {
   "codemirror_mode": {
    "name": "ipython",
    "version": 3
   },
   "file_extension": ".py",
   "mimetype": "text/x-python",
   "name": "python",
   "nbconvert_exporter": "python",
   "pygments_lexer": "ipython3",
   "version": "3.10.1"
  }
 },
 "nbformat": 4,
 "nbformat_minor": 5
}
